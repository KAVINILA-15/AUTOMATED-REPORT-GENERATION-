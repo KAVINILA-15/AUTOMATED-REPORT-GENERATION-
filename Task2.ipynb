import pandas as pd
from fpdf import FPDF


data = pd.read_csv("sample_data.csv")


average_score = data['Score'].mean()
max_score = data['Score'].max()
min_score = data['Score'].min()
topper = data.loc[data['Score'].idxmax(), 'Name']


class PDFReport(FPDF):
    def header(self):
        self.set_font("Arial", "B", 16)
        self.cell(0, 10, "Automated Report", ln=True, align="C")
        self.ln(10)

    def footer(self):
        self.set_y(-15)
        self.set_font("Arial", "I", 8)
        self.cell(0, 10, f"Page {self.page_no()}", align="C")

    def add_summary(self, avg, max_val, min_val, topper_name):
        self.set_font("Arial", "", 12)
        self.cell(0, 10, f"Average Score: {avg:.2f}", ln=True)
        self.cell(0, 10, f"Maximum Score: {max_val}", ln=True)
        self.cell(0, 10, f"Minimum Score: {min_val}", ln=True)
        self.cell(0, 10, f"Top Performer: {topper_name}", ln=True)
        self.ln(10)

    def add_table(self, df):
        self.set_font("Arial", "B", 12)
        self.cell(90, 10, "Name", 1, 0, "C")
        self.cell(50, 10, "Score", 1, 1, "C")

        self.set_font("Arial", "", 12)
        for index, row in df.iterrows():
            self.cell(90, 10, str(row['Name']), 1, 0, "C")
            self.cell(50, 10, str(row['Score']), 1, 1, "C")


pdf = PDFReport()
pdf.add_page()
pdf.add_summary(average_score, max_score, min_score, topper)
pdf.add_table(data)


pdf.output("AutomatedReport.pdf")

print("✅ PDF report 'AutomatedReport.pdf' generated successfully.")
